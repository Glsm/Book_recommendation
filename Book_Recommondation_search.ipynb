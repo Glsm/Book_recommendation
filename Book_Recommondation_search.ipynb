{
 "cells": [
  {
   "cell_type": "code",
   "execution_count": null,
   "id": "e872ceb2",
   "metadata": {},
   "outputs": [],
   "source": [
    "!wc -l goodreads_books.json.gz"
   ]
  },
  {
   "cell_type": "code",
   "execution_count": 1,
   "id": "cd68fbc3",
   "metadata": {},
   "outputs": [],
   "source": [
    "#show me siwe of all the files in the directory"
   ]
  },
  {
   "cell_type": "code",
   "execution_count": null,
   "id": "0982f8ae",
   "metadata": {},
   "outputs": [],
   "source": [
    "!ls -lh | grep goodreads_books.json"
   ]
  }
 ],
 "metadata": {
  "kernelspec": {
   "display_name": "Python 3 (ipykernel)",
   "language": "python",
   "name": "python3"
  },
  "language_info": {
   "codemirror_mode": {
    "name": "ipython",
    "version": 3
   },
   "file_extension": ".py",
   "mimetype": "text/x-python",
   "name": "python",
   "nbconvert_exporter": "python",
   "pygments_lexer": "ipython3",
   "version": "3.9.13"
  }
 },
 "nbformat": 4,
 "nbformat_minor": 5
}
